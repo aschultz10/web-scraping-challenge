{
 "cells": [
  {
   "cell_type": "code",
   "execution_count": 4,
   "metadata": {},
   "outputs": [
    {
     "name": "stdout",
     "output_type": "stream",
     "text": [
      "Collecting webdriver_manager\n",
      "  Using cached webdriver_manager-3.3.0-py2.py3-none-any.whl (16 kB)\n",
      "Requirement already satisfied: requests in c:\\users\\alexe\\anaconda3\\envs\\pythondata\\lib\\site-packages (from webdriver_manager) (2.24.0)\n",
      "Collecting configparser\n",
      "  Using cached configparser-5.0.2-py3-none-any.whl (19 kB)\n",
      "Collecting crayons\n",
      "  Using cached crayons-0.4.0-py2.py3-none-any.whl (4.6 kB)\n",
      "Requirement already satisfied: certifi>=2017.4.17 in c:\\users\\alexe\\anaconda3\\envs\\pythondata\\lib\\site-packages (from requests->webdriver_manager) (2020.6.20)\n",
      "Requirement already satisfied: urllib3!=1.25.0,!=1.25.1,<1.26,>=1.21.1 in c:\\users\\alexe\\anaconda3\\envs\\pythondata\\lib\\site-packages (from requests->webdriver_manager) (1.25.11)\n",
      "Requirement already satisfied: idna<3,>=2.5 in c:\\users\\alexe\\anaconda3\\envs\\pythondata\\lib\\site-packages (from requests->webdriver_manager) (2.10)\n",
      "Requirement already satisfied: chardet<4,>=3.0.2 in c:\\users\\alexe\\anaconda3\\envs\\pythondata\\lib\\site-packages (from requests->webdriver_manager) (3.0.4)\n",
      "Requirement already satisfied: colorama in c:\\users\\alexe\\anaconda3\\envs\\pythondata\\lib\\site-packages (from crayons->webdriver_manager) (0.4.4)\n",
      "Installing collected packages: configparser, crayons, webdriver-manager\n",
      "Successfully installed configparser-5.0.2 crayons-0.4.0 webdriver-manager-3.3.0\n",
      "Note: you may need to restart the kernel to use updated packages.\n"
     ]
    }
   ],
   "source": [
    "#pip install webdriver_manager"
   ]
  },
  {
   "cell_type": "code",
   "execution_count": 1,
   "metadata": {},
   "outputs": [],
   "source": [
    "# Import Dependencies\n",
    "\n",
    "from splinter import Browser\n",
    "from bs4 import BeautifulSoup\n",
    "import pandas as pd\n",
    "import requests\n",
    "import pymongo\n",
    "from webdriver_manager.chrome import ChromeDriverManager"
   ]
  },
  {
   "cell_type": "markdown",
   "metadata": {},
   "source": [
    "NASA MARS NEWS\n",
    "="
   ]
  },
  {
   "cell_type": "code",
   "execution_count": 2,
   "metadata": {},
   "outputs": [
    {
     "name": "stderr",
     "output_type": "stream",
     "text": [
      "[WDM] - ====== WebDriver manager ======\n",
      "[WDM] - Current google-chrome version is 89.0.4389\n",
      "[WDM] - Get LATEST driver version for 89.0.4389\n"
     ]
    },
    {
     "name": "stdout",
     "output_type": "stream",
     "text": [
      "\n",
      "\n"
     ]
    },
    {
     "name": "stderr",
     "output_type": "stream",
     "text": [
      "[WDM] - Driver [C:\\Users\\alexe\\.wdm\\drivers\\chromedriver\\win32\\89.0.4389.23\\chromedriver.exe] found in cache\n"
     ]
    }
   ],
   "source": [
    "# Setup the Splinter Path with the NASA URL\n",
    "executable_path = {'executable_path': ChromeDriverManager().install()}\n",
    "browser = Browser('chrome', **executable_path, headless=False)"
   ]
  },
  {
   "cell_type": "code",
   "execution_count": 3,
   "metadata": {},
   "outputs": [
    {
     "name": "stdout",
     "output_type": "stream",
     "text": [
      "NASA's InSight Flexes Its Arm While Its 'Mole' Hits Pause\n",
      "Now that the lander's robotic arm has helped the mole get underground, it will resume science activities that have been on hold.\n"
     ]
    }
   ],
   "source": [
    "# Scrape NASA Mars News Site using BS, browser, and HTML\n",
    "\n",
    "url_nasa = 'https://redplanetscience.com/'\n",
    "browser.visit(url_nasa)\n",
    "\n",
    "html = browser.html\n",
    "soup_nasa = BeautifulSoup(html, 'html.parser')\n",
    "\n",
    "\n",
    "# Use \"findall\" to Pull the News Title and Paragraph Text (assign to variables)\n",
    "nasa_news_title = soup_nasa.find('div', attrs={'class':'content_title'}).get_text()\n",
    "print(nasa_news_title)\n",
    "\n",
    "nasa_news_para = soup_nasa.find('div', attrs={'class':'article_teaser_body'}).get_text()\n",
    "print(nasa_news_para)"
   ]
  },
  {
   "cell_type": "markdown",
   "metadata": {},
   "source": [
    "JPL MARS SPACE IMAGES - FEATURED IMAGE\n",
    "="
   ]
  },
  {
   "cell_type": "code",
   "execution_count": 4,
   "metadata": {},
   "outputs": [],
   "source": [
    "# Setup the Splinter Path with URL, use BS with Parser\n",
    "\n",
    "url_jpl = 'https://spaceimages-mars.com/'\n",
    "browser.visit(url_jpl)\n",
    "\n",
    "html = browser.html\n",
    "soup_jpl = BeautifulSoup(html, 'html.parser')"
   ]
  },
  {
   "cell_type": "code",
   "execution_count": 5,
   "metadata": {},
   "outputs": [
    {
     "name": "stdout",
     "output_type": "stream",
     "text": [
      "https://spaceimages-mars.com/image/featured/mars1.jpg\n"
     ]
    }
   ],
   "source": [
    "# Pull Featured Image and Make the Link (Base URL + Image URL) (**ASSIGN TO STRING using SRC**)\n",
    "\n",
    "jpl_img_path = soup_jpl.find(\"img\", attrs={\"headerimage fade-in\"})[\"src\"]\n",
    "\n",
    "featured_image_url = url_jpl+jpl_img_path\n",
    "print(featured_image_url)"
   ]
  },
  {
   "cell_type": "markdown",
   "metadata": {},
   "source": [
    "MARS FACTS\n",
    "="
   ]
  },
  {
   "cell_type": "code",
   "execution_count": 6,
   "metadata": {},
   "outputs": [],
   "source": [
    "# Pull URL, Use pd.read to Make Table\n",
    "\n",
    "url_facts = 'https://galaxyfacts-mars.com/'\n",
    "browser.visit(url_facts)"
   ]
  },
  {
   "cell_type": "code",
   "execution_count": 7,
   "metadata": {},
   "outputs": [],
   "source": [
    "#pip install tabulate"
   ]
  },
  {
   "cell_type": "code",
   "execution_count": 8,
   "metadata": {},
   "outputs": [
    {
     "name": "stdout",
     "output_type": "stream",
     "text": [
      "----------------------------  ----------------------------------  ----------------------\n",
      "0    Mars - Earth Comparison  0               Mars                0              Earth\n",
      "1                  Diameter:  1           6,779 km                1          12,742 km\n",
      "2                      Mass:  2    6.39 × 10^23 kg                2    5.97 × 10^24 kg\n",
      "3                     Moons:  3                  2                3                  1\n",
      "4         Distance from Sun:  4     227,943,824 km                4     149,598,262 km\n",
      "5            Length of Year:  5     687 Earth days                5        365.24 days\n",
      "6               Temperature:  6       -87 to -5 °C                6        -88 to 58°C\n",
      "Name: 0, dtype: object        Name: 1, dtype: object              Name: 2, dtype: object\n",
      "0    Equatorial Diameter:     0                         6,792 km\n",
      "1         Polar Diameter:     1                         6,752 km\n",
      "2                   Mass:     2    6.39 × 10^23 kg (0.11 Earths)\n",
      "3                  Moons:     3            2 ( Phobos & Deimos )\n",
      "4         Orbit Distance:     4         227,943,824 km (1.38 AU)\n",
      "5           Orbit Period:     5             687 days (1.9 years)\n",
      "6    Surface Temperature:     6                     -87 to -5 °C\n",
      "7           First Record:     7                2nd millennium BC\n",
      "8            Recorded By:     8             Egyptian astronomers\n",
      "Name: 0, dtype: object        Name: 1, dtype: object\n",
      "----------------------------  ----------------------------------  ----------------------\n"
     ]
    }
   ],
   "source": [
    "from tabulate import tabulate\n",
    "\n",
    "facts_table = pd.read_html(url_facts)\n",
    "print(tabulate(facts_table))"
   ]
  },
  {
   "cell_type": "code",
   "execution_count": 9,
   "metadata": {},
   "outputs": [
    {
     "data": {
      "text/html": [
       "<div>\n",
       "<style scoped>\n",
       "    .dataframe tbody tr th:only-of-type {\n",
       "        vertical-align: middle;\n",
       "    }\n",
       "\n",
       "    .dataframe tbody tr th {\n",
       "        vertical-align: top;\n",
       "    }\n",
       "\n",
       "    .dataframe thead th {\n",
       "        text-align: right;\n",
       "    }\n",
       "</style>\n",
       "<table border=\"1\" class=\"dataframe\">\n",
       "  <thead>\n",
       "    <tr style=\"text-align: right;\">\n",
       "      <th></th>\n",
       "      <th>Mars-Earth Comparison</th>\n",
       "      <th>Mars</th>\n",
       "      <th>Earth</th>\n",
       "    </tr>\n",
       "  </thead>\n",
       "  <tbody>\n",
       "    <tr>\n",
       "      <th>0</th>\n",
       "      <td>Mars - Earth Comparison</td>\n",
       "      <td>Mars</td>\n",
       "      <td>Earth</td>\n",
       "    </tr>\n",
       "    <tr>\n",
       "      <th>1</th>\n",
       "      <td>Diameter:</td>\n",
       "      <td>6,779 km</td>\n",
       "      <td>12,742 km</td>\n",
       "    </tr>\n",
       "    <tr>\n",
       "      <th>2</th>\n",
       "      <td>Mass:</td>\n",
       "      <td>6.39 × 10^23 kg</td>\n",
       "      <td>5.97 × 10^24 kg</td>\n",
       "    </tr>\n",
       "    <tr>\n",
       "      <th>3</th>\n",
       "      <td>Moons:</td>\n",
       "      <td>2</td>\n",
       "      <td>1</td>\n",
       "    </tr>\n",
       "    <tr>\n",
       "      <th>4</th>\n",
       "      <td>Distance from Sun:</td>\n",
       "      <td>227,943,824 km</td>\n",
       "      <td>149,598,262 km</td>\n",
       "    </tr>\n",
       "    <tr>\n",
       "      <th>5</th>\n",
       "      <td>Length of Year:</td>\n",
       "      <td>687 Earth days</td>\n",
       "      <td>365.24 days</td>\n",
       "    </tr>\n",
       "    <tr>\n",
       "      <th>6</th>\n",
       "      <td>Temperature:</td>\n",
       "      <td>-87 to -5 °C</td>\n",
       "      <td>-88 to 58°C</td>\n",
       "    </tr>\n",
       "  </tbody>\n",
       "</table>\n",
       "</div>"
      ],
      "text/plain": [
       "     Mars-Earth Comparison             Mars            Earth\n",
       "0  Mars - Earth Comparison             Mars            Earth\n",
       "1                Diameter:         6,779 km        12,742 km\n",
       "2                    Mass:  6.39 × 10^23 kg  5.97 × 10^24 kg\n",
       "3                   Moons:                2                1\n",
       "4       Distance from Sun:   227,943,824 km   149,598,262 km\n",
       "5          Length of Year:   687 Earth days      365.24 days\n",
       "6             Temperature:     -87 to -5 °C      -88 to 58°C"
      ]
     },
     "execution_count": 9,
     "metadata": {},
     "output_type": "execute_result"
    }
   ],
   "source": [
    "facts_df = facts_table[0]\n",
    "facts_df.columns = ['Mars-Earth Comparison', 'Mars', 'Earth']\n",
    "facts_df"
   ]
  },
  {
   "cell_type": "markdown",
   "metadata": {},
   "source": [
    "MARS HEMISPHERES\n",
    "="
   ]
  },
  {
   "cell_type": "code",
   "execution_count": 10,
   "metadata": {},
   "outputs": [],
   "source": [
    "# Pull URL, use BS and parser\n",
    "url_base_hemi = 'https://marshemispheres.com/'\n",
    "browser.visit(url_base_hemi)\n",
    "html = browser.html\n",
    "\n",
    "soup_hemi = BeautifulSoup(html, 'html.parser')"
   ]
  },
  {
   "cell_type": "code",
   "execution_count": 27,
   "metadata": {},
   "outputs": [],
   "source": [
    "# Use Find_All to retrieve Each Image using For Loop\n",
    "\n",
    "hemi_images = soup_hemi.find_all('img', attrs={'class':'thumb'})\n",
    "\n",
    "#Store Images\n",
    "\n",
    "hemisphere_image_urls = []\n",
    "\n",
    "# Use ATTRS in loop to return src alt and title, append dictionary\n",
    "\n",
    "for finalimages in hemi_images:\n",
    "    url = finalimages.attrs['src']\n",
    "    title = finalimages.attrs['alt']\n",
    "    hemisphere_image_urls.append({'title':title,'img_url':url})\n"
   ]
  },
  {
   "cell_type": "code",
   "execution_count": 30,
   "metadata": {},
   "outputs": [
    {
     "data": {
      "text/plain": [
       "[{'title': 'Cerberus Hemisphere Enhanced thumbnail',\n",
       "  'img_url': 'images/39d3266553462198bd2fbc4d18fbed17_cerberus_enhanced.tif_thumb.png'},\n",
       " {'title': 'Schiaparelli Hemisphere Enhanced thumbnail',\n",
       "  'img_url': 'images/08eac6e22c07fb1fe72223a79252de20_schiaparelli_enhanced.tif_thumb.png'},\n",
       " {'title': 'Syrtis Major Hemisphere Enhanced thumbnail',\n",
       "  'img_url': 'images/55a0a1e2796313fdeafb17c35925e8ac_syrtis_major_enhanced.tif_thumb.png'},\n",
       " {'title': 'Valles Marineris Hemisphere Enhanced thumbnail',\n",
       "  'img_url': 'images/4e59980c1c57f89c680c0e1ccabbeff1_valles_marineris_enhanced.tif_thumb.png'}]"
      ]
     },
     "execution_count": 30,
     "metadata": {},
     "output_type": "execute_result"
    }
   ],
   "source": [
    "# Print All Image URLS and Descriptions\n",
    "\n",
    "hemisphere_image_urls"
   ]
  },
  {
   "cell_type": "code",
   "execution_count": null,
   "metadata": {},
   "outputs": [],
   "source": [
    "\n"
   ]
  }
 ],
 "metadata": {
  "kernelspec": {
   "display_name": "Python 3",
   "language": "python",
   "name": "python3"
  },
  "language_info": {
   "codemirror_mode": {
    "name": "ipython",
    "version": 3
   },
   "file_extension": ".py",
   "mimetype": "text/x-python",
   "name": "python",
   "nbconvert_exporter": "python",
   "pygments_lexer": "ipython3",
   "version": "3.7.9"
  }
 },
 "nbformat": 4,
 "nbformat_minor": 4
}
